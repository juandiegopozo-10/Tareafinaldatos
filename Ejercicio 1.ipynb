{
 "cells": [
  {
   "cell_type": "code",
   "execution_count": null,
   "id": "70a14c73",
   "metadata": {},
   "outputs": [],
   "source": [
    "#JUAN DIEGO POZO ORTIZ \n",
    "# CÓDIGO: 20210679\n"
   ]
  },
  {
   "cell_type": "code",
   "execution_count": 5,
   "id": "9fc58103",
   "metadata": {},
   "outputs": [
    {
     "data": {
      "text/plain": [
       "['country', 'cities', 'rivers']"
      ]
     },
     "execution_count": 5,
     "metadata": {},
     "output_type": "execute_result"
    }
   ],
   "source": [
    "from  fiona import listlayers\n",
    "import os\n",
    "\n",
    "thailandMaps=os.path.join('maps','thailandMaps_4239.gpkg')\n",
    "\n",
    "#layers in maps\n",
    "listlayers(thailandMaps)"
   ]
  },
  {
   "cell_type": "code",
   "execution_count": 8,
   "id": "d64c42c3",
   "metadata": {},
   "outputs": [],
   "source": [
    "import os\n",
    "import geopandas as gpd\n",
    "\n",
    "cities =gpd.read_file(thailandMaps,layer='cities')\n",
    "\n",
    "\n",
    "rivers=gpd.read_file(thailandMaps,layer='rivers')\n"
   ]
  },
  {
   "cell_type": "code",
   "execution_count": null,
   "id": "a5047870",
   "metadata": {},
   "outputs": [],
   "source": []
  },
  {
   "cell_type": "code",
   "execution_count": null,
   "id": "99376a37",
   "metadata": {},
   "outputs": [],
   "source": []
  },
  {
   "cell_type": "code",
   "execution_count": null,
   "id": "1647a287",
   "metadata": {},
   "outputs": [],
   "source": []
  }
 ],
 "metadata": {
  "kernelspec": {
   "display_name": "Python 3 (ipykernel)",
   "language": "python",
   "name": "python3"
  },
  "language_info": {
   "codemirror_mode": {
    "name": "ipython",
    "version": 3
   },
   "file_extension": ".py",
   "mimetype": "text/x-python",
   "name": "python",
   "nbconvert_exporter": "python",
   "pygments_lexer": "ipython3",
   "version": "3.11.5"
  }
 },
 "nbformat": 4,
 "nbformat_minor": 5
}
